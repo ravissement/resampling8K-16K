{
 "cells": [
  {
   "cell_type": "code",
   "execution_count": 27,
   "id": "9bf72629",
   "metadata": {},
   "outputs": [],
   "source": [
    "# resampling8k-16k\n",
    "#\n",
    "# Created By ravissement On 2021-11-05.\n",
    "# \n",
    "\n",
    "import os\n",
    "import time\n",
    "import numpy as np\n",
    "import pandas as pd\n",
    "import os\n",
    "from tqdm import tqdm\n",
    "import librosa\n",
    "import opensmile\n",
    "import soundfile as sf"
   ]
  },
  {
   "cell_type": "code",
   "execution_count": 28,
   "id": "aac03240",
   "metadata": {},
   "outputs": [
    {
     "data": {
      "text/plain": [
       "48000"
      ]
     },
     "execution_count": 28,
     "metadata": {},
     "output_type": "execute_result"
    }
   ],
   "source": [
    "# If you have Many DataSet you have to use this.\n",
    "# waves = os.listdir(dir)\n",
    "\n",
    "dir = 'd:/ravissement/pythonData/train'\n",
    "wave = 'omy.wav'\n",
    "librosa.get_samplerate(dir + \"/\" + wave) # This case original samplerate : 48000"
   ]
  },
  {
   "cell_type": "code",
   "execution_count": 29,
   "id": "1c0b11ca",
   "metadata": {},
   "outputs": [
    {
     "name": "stdout",
     "output_type": "stream",
     "text": [
      "original wav sr: 48000, original wav shape: (6438912,), resample wav sr: 16000, resmaple shape: (2146304,)\n",
      "original wav sr: 48000, original wav shape: (6438912,), resample wav sr: 8000, resmaple shape: (1073152,)\n"
     ]
    }
   ],
   "source": [
    "# down sampling function declaration\n",
    "def down_sample(input_wav, origin_sr, resample_sr, wave):\n",
    "    y, sr = librosa.load(input_wav, sr=origin_sr)\n",
    "    resample = librosa.resample(y, sr, resample_sr)\n",
    "    print(\"original wav sr: {}, original wav shape: {}, resample wav sr: {}, resmaple shape: {}\".format(origin_sr, y.shape, resample_sr, resample.shape))\n",
    "    if resample_sr == 16000:\n",
    "        sf.write('d:/ravissement/pythonData/train16K/'+ wave + '_16k.wav' , resample, resample_sr, format='WAV', endian='LITTLE', subtype='PCM_16')\n",
    "    else:\n",
    "        sf.write('d:/ravissement/pythonData/train8K/' + wave + '_8k.wav' , resample, resample_sr, format='WAV', endian='LITTLE', subtype='PCM_16')\n",
    "\n",
    "\n",
    "down_sample(path, 48000, 16000, wave.rstrip('.wav'))   # samplerate      \n",
    "down_sample(path, 48000, 8000, wave.rstrip('.wav'))        \n",
    "\n",
    "\n",
    "# If you have Many DataSet you have to use this.\n",
    "#for wave in waves:\n",
    "#    path = dir + \"/\" + wave\n",
    "#    down_sample(path, 48000, 16000, wave.rstrip('.wav'))\n",
    "#    down_sample(path, 48000, 8000, wave.rstrip('.wav'))"
   ]
  },
  {
   "cell_type": "code",
   "execution_count": null,
   "id": "c85bd5d5",
   "metadata": {},
   "outputs": [],
   "source": []
  }
 ],
 "metadata": {
  "kernelspec": {
   "display_name": "Python 3 (ipykernel)",
   "language": "python",
   "name": "python3"
  },
  "language_info": {
   "codemirror_mode": {
    "name": "ipython",
    "version": 3
   },
   "file_extension": ".py",
   "mimetype": "text/x-python",
   "name": "python",
   "nbconvert_exporter": "python",
   "pygments_lexer": "ipython3",
   "version": "3.9.7"
  }
 },
 "nbformat": 4,
 "nbformat_minor": 5
}
